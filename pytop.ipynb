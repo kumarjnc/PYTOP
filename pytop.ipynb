{
 "cells": [
  {
   "cell_type": "code",
   "execution_count": 1,
   "id": "varied-cleaners",
   "metadata": {},
   "outputs": [],
   "source": [
    "import qsh\n",
    "import link\n",
    "import field\n",
    "import params\n",
    "import numpy as np"
   ]
  },
  {
   "cell_type": "code",
   "execution_count": 2,
   "id": "patient-morning",
   "metadata": {},
   "outputs": [
    {
     "name": "stdout",
     "output_type": "stream",
     "text": [
      "Initialisation of tbg\n"
     ]
    }
   ],
   "source": [
    " energy, energy_val,nth_m , nky_m=qsh.bandstr(params.tx,params.ty,params.Nk,params.Ntheta,params.size_bzone,params.alpha,params.lmda,params.gama,square=True)\n",
    "    "
   ]
  },
  {
   "cell_type": "code",
   "execution_count": 3,
   "id": "welsh-romance",
   "metadata": {},
   "outputs": [],
   "source": [
    "gap=np.min(abs(energy))"
   ]
  },
  {
   "cell_type": "code",
   "execution_count": 18,
   "id": "freelance-dublin",
   "metadata": {},
   "outputs": [
    {
     "data": {
      "text/plain": [
       "0.03781260324333169"
      ]
     },
     "execution_count": 18,
     "metadata": {},
     "output_type": "execute_result"
    }
   ],
   "source": [
    "gap"
   ]
  },
  {
   "cell_type": "code",
   "execution_count": 4,
   "id": "maritime-integral",
   "metadata": {},
   "outputs": [],
   "source": [
    "Nth, Nky, no_of_band_filled=energy.shape"
   ]
  },
  {
   "cell_type": "code",
   "execution_count": 5,
   "id": "lined-gauge",
   "metadata": {},
   "outputs": [],
   "source": [
    "no_of_band=int(no_of_band_filled/2)"
   ]
  },
  {
   "cell_type": "code",
   "execution_count": 6,
   "id": "precise-exchange",
   "metadata": {},
   "outputs": [],
   "source": [
    "import link"
   ]
  },
  {
   "cell_type": "code",
   "execution_count": 7,
   "id": "israeli-proof",
   "metadata": {},
   "outputs": [
    {
     "data": {
      "text/plain": [
       "(41, 41, 12, 12)"
      ]
     },
     "execution_count": 7,
     "metadata": {},
     "output_type": "execute_result"
    }
   ],
   "source": [
    "evec=energy_val\n",
    "evec.shape"
   ]
  },
  {
   "cell_type": "code",
   "execution_count": 12,
   "id": "graduate-wellington",
   "metadata": {},
   "outputs": [],
   "source": [
    "Nth=20\n",
    "Nky=20\n"
   ]
  },
  {
   "cell_type": "code",
   "execution_count": 13,
   "id": "nasty-subscriber",
   "metadata": {},
   "outputs": [],
   "source": [
    "U1, U2=link.link(Nky, Nth, no_of_band, evec)"
   ]
  },
  {
   "cell_type": "code",
   "execution_count": 14,
   "id": "touched-microwave",
   "metadata": {},
   "outputs": [
    {
     "data": {
      "text/plain": [
       "(41, 41)"
      ]
     },
     "execution_count": 14,
     "metadata": {},
     "output_type": "execute_result"
    }
   ],
   "source": [
    "U2.shape"
   ]
  },
  {
   "cell_type": "code",
   "execution_count": 15,
   "id": "different-campbell",
   "metadata": {},
   "outputs": [
    {
     "data": {
      "text/plain": [
       "(41, 41)"
      ]
     },
     "execution_count": 15,
     "metadata": {},
     "output_type": "execute_result"
    }
   ],
   "source": [
    "U1.shape"
   ]
  },
  {
   "cell_type": "code",
   "execution_count": 16,
   "id": "fifteen-drama",
   "metadata": {},
   "outputs": [],
   "source": [
    "mu=field.field(Nky, Nth, U1,U2)"
   ]
  },
  {
   "cell_type": "code",
   "execution_count": 17,
   "id": "complex-trash",
   "metadata": {},
   "outputs": [],
   "source": [
    "if (gap > 0.01):\n",
    "    muf=mu\n",
    "else:\n",
    "    muf=0.0"
   ]
  },
  {
   "cell_type": "code",
   "execution_count": 19,
   "id": "smoking-rwanda",
   "metadata": {},
   "outputs": [
    {
     "data": {
      "text/plain": [
       "0.9623349012791246"
      ]
     },
     "execution_count": 19,
     "metadata": {},
     "output_type": "execute_result"
    }
   ],
   "source": [
    "muf"
   ]
  },
  {
   "cell_type": "code",
   "execution_count": null,
   "id": "skilled-immunology",
   "metadata": {},
   "outputs": [],
   "source": []
  }
 ],
 "metadata": {
  "kernelspec": {
   "display_name": "Python 3",
   "language": "python",
   "name": "python3"
  },
  "language_info": {
   "codemirror_mode": {
    "name": "ipython",
    "version": 3
   },
   "file_extension": ".py",
   "mimetype": "text/x-python",
   "name": "python",
   "nbconvert_exporter": "python",
   "pygments_lexer": "ipython3",
   "version": "3.9.1"
  }
 },
 "nbformat": 4,
 "nbformat_minor": 5
}
